{
 "cells": [
  {
   "cell_type": "code",
   "execution_count": 36,
   "metadata": {},
   "outputs": [],
   "source": [
    "class Perceptron():\n",
    "    def __init__(self, name, weights, bias):\n",
    "        self.name = name\n",
    "        self.weights = weights\n",
    "        self.bias = bias\n",
    "\n",
    "    def __str__(self):\n",
    "        return f\"Perceptron '{self.name}' with input weights {self.weights} and bias {self.bias}.\"\n",
    "    \n",
    "    def output(self, input):\n",
    "        if type(input) == int:\n",
    "            input = [input]\n",
    "        if len(input) != len(self.weights):\n",
    "            raise ValueError(\"The number of inputs must be equal to the number of weights.\")\n",
    "        total = 0\n",
    "        for i in range(len(input)):\n",
    "            total += input[i] * self.weights[i]\n",
    "        return int(total + self.bias >= 0)"
   ]
  },
  {
   "cell_type": "code",
   "execution_count": 37,
   "metadata": {},
   "outputs": [],
   "source": [
    "onebit_binary_combinations = (0, 1)\n",
    "twobit_binary_combinations = ((0, 0), (0, 1), (1, 0), (1, 1))\n",
    "threebit_binary_combinations = ((0, 0, 0), (0, 0, 1), (0, 1, 0), (0, 1, 1), (1, 0, 0), (1, 0, 1), (1, 1, 0), (1, 1, 1))"
   ]
  },
  {
   "cell_type": "code",
   "execution_count": 38,
   "metadata": {},
   "outputs": [
    {
     "name": "stdout",
     "output_type": "stream",
     "text": [
      "Perceptron 'NOT' with input weights [-1] and bias 0.\n",
      "NOT 0 = 1\n",
      "NOT 1 = 0\n"
     ]
    }
   ],
   "source": [
    "p_inv = Perceptron(\"NOT\", [-1], 0)\n",
    "print(p_inv)\n",
    "\n",
    "for input in onebit_binary_combinations:\n",
    "    print(f\"NOT {input} = {p_inv.output(input)}\")"
   ]
  },
  {
   "cell_type": "code",
   "execution_count": 39,
   "metadata": {},
   "outputs": [
    {
     "name": "stdout",
     "output_type": "stream",
     "text": [
      "Perceptron 'AND' with input weights [1, 1] and bias -2.\n",
      "Input: (0, 0), Output: 0\n",
      "Input: (0, 1), Output: 0\n",
      "Input: (1, 0), Output: 0\n",
      "Input: (1, 1), Output: 1\n"
     ]
    }
   ],
   "source": [
    "p_and = Perceptron(\"AND\", [1, 1], -2)\n",
    "print(p_and)\n",
    "\n",
    "for i in twobit_binary_combinations:\n",
    "    print(f\"Input: {i}, Output: {p_and.output(i)}\")"
   ]
  },
  {
   "cell_type": "code",
   "execution_count": 40,
   "metadata": {},
   "outputs": [
    {
     "name": "stdout",
     "output_type": "stream",
     "text": [
      "Perceptron 'OR' with input weights [1, 1] and bias -1.\n",
      "Input: (0, 0), Output: 0\n",
      "Input: (0, 1), Output: 1\n",
      "Input: (1, 0), Output: 1\n",
      "Input: (1, 1), Output: 1\n"
     ]
    }
   ],
   "source": [
    "p_or = Perceptron(\"OR\", [1, 1], -1)\n",
    "print(p_or)\n",
    "\n",
    "for i in twobit_binary_combinations:\n",
    "    print(f\"Input: {i}, Output: {p_or.output(i)}\")"
   ]
  },
  {
   "cell_type": "code",
   "execution_count": 41,
   "metadata": {},
   "outputs": [
    {
     "name": "stdout",
     "output_type": "stream",
     "text": [
      "Perceptron 'NOR' with input weights [-1, -1] and bias 0.\n",
      "Input: (0, 0), Output: 1\n",
      "Input: (0, 1), Output: 0\n",
      "Input: (1, 0), Output: 0\n",
      "Input: (1, 1), Output: 0\n"
     ]
    }
   ],
   "source": [
    "p_nor = Perceptron(\"NOR\", [-1, -1], 0)\n",
    "print(p_nor)\n",
    "\n",
    "for i in twobit_binary_combinations:\n",
    "    print(f\"Input: {i}, Output: {p_nor.output(i)}\")"
   ]
  },
  {
   "cell_type": "code",
   "execution_count": 42,
   "metadata": {},
   "outputs": [
    {
     "name": "stdout",
     "output_type": "stream",
     "text": [
      "Perceptron 'Min-2' with input weights [1, 1, 1] and bias -2.\n",
      "Input: (0, 0, 0), Output: 0\n",
      "Input: (0, 0, 1), Output: 0\n",
      "Input: (0, 1, 0), Output: 0\n",
      "Input: (0, 1, 1), Output: 1\n",
      "Input: (1, 0, 0), Output: 0\n",
      "Input: (1, 0, 1), Output: 1\n",
      "Input: (1, 1, 0), Output: 1\n",
      "Input: (1, 1, 1), Output: 1\n"
     ]
    }
   ],
   "source": [
    "p_two_min = Perceptron(\"Min-2\", [1, 1, 1], -2)\n",
    "print(p_two_min)\n",
    "\n",
    "for i in threebit_binary_combinations:\n",
    "    print(f\"Input: {i}, Output: {p_two_min.output(i)}\")"
   ]
  },
  {
   "cell_type": "code",
   "execution_count": 43,
   "metadata": {},
   "outputs": [
    {
     "name": "stdout",
     "output_type": "stream",
     "text": [
      "Perceptron 'NAND' with input weights [-1, -1] and bias 1.\n",
      "Input: (0, 0), Output: 1\n",
      "Input: (0, 1), Output: 1\n",
      "Input: (1, 0), Output: 1\n",
      "Input: (1, 1), Output: 0\n"
     ]
    }
   ],
   "source": [
    "p_nand = Perceptron(\"NAND\", [-1, -1], 1)\n",
    "print(p_nand)\n",
    "\n",
    "for i in twobit_binary_combinations:\n",
    "    print(f\"Input: {i}, Output: {p_nand.output(i)}\")"
   ]
  },
  {
   "cell_type": "code",
   "execution_count": 44,
   "metadata": {},
   "outputs": [],
   "source": [
    "class PerceptronLayer():\n",
    "    def __init__(self, name, perceptrons):\n",
    "        self.name = name\n",
    "        self.perceptrons = perceptrons\n",
    "\n",
    "    def __str__(self):\n",
    "        return f\"PerceptronLayer '{self.name}' with {len(self.perceptrons)} perceptrons.\"\n",
    "\n",
    "    def output(self, input):\n",
    "        return [p.output(input) for p in self.perceptrons] if hasattr(self.perceptrons, '__iter__') else self.perceptrons.output(input)"
   ]
  },
  {
   "cell_type": "code",
   "execution_count": 47,
   "metadata": {},
   "outputs": [
    {
     "name": "stdout",
     "output_type": "stream",
     "text": [
      "Input: (0, 0), Output: 0\n",
      "Input: (0, 1), Output: 1\n",
      "Input: (1, 0), Output: 1\n",
      "Input: (1, 1), Output: 0\n"
     ]
    }
   ],
   "source": [
    "layer1 = PerceptronLayer(\"Logic\", [p_nand, p_or])\n",
    "layer2 = PerceptronLayer(\"Output\", p_and)\n",
    "\n",
    "for i in twobit_binary_combinations:\n",
    "    print(f\"Input: {i}, Output: {layer2.output(layer1.output(i))}\")"
   ]
  }
 ],
 "metadata": {
  "kernelspec": {
   "display_name": "Python 3",
   "language": "python",
   "name": "python3"
  },
  "language_info": {
   "codemirror_mode": {
    "name": "ipython",
    "version": 3
   },
   "file_extension": ".py",
   "mimetype": "text/x-python",
   "name": "python",
   "nbconvert_exporter": "python",
   "pygments_lexer": "ipython3",
   "version": "3.11.1"
  }
 },
 "nbformat": 4,
 "nbformat_minor": 2
}
