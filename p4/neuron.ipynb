{
 "cells": [
  {
   "cell_type": "code",
   "execution_count": 4,
   "metadata": {},
   "outputs": [],
   "source": [
    "import math\n",
    "\n",
    "def sigmoid(x):\n",
    "    return 1 / (1 + math.exp(-x))\n",
    "\n",
    "def sigmoid_derivative(x):\n",
    "    return sigmoid(x) * (1 - sigmoid(x))\n",
    "\n",
    "def calculate_gradient(output_i, delta_j):\n",
    "        return output_i * delta_j\n",
    "\n",
    "def calculate_weight_delta(learning_rate, output_i, delta_j, bias=False):\n",
    "    if bias:\n",
    "        return learning_rate * delta_j\n",
    "    else:\n",
    "        return learning_rate * calculate_gradient(output_i, delta_j)"
   ]
  },
  {
   "cell_type": "code",
   "execution_count": 5,
   "metadata": {},
   "outputs": [],
   "source": [
    "class Neuron():\n",
    "    def __init__(self, name, weights, bias, output_neuron=False):\n",
    "        self.name = name\n",
    "        self.weights = [float(x) for x in weights]\n",
    "        self.bias = float(bias)\n",
    "        self.delta = None\n",
    "\n",
    "    def __str__(self):\n",
    "        return f\"Neuron '{self.name}' with input weights {self.weights} and bias {self.bias}.\"\n",
    "    \n",
    "    def output(self, input):\n",
    "        if type(input) == int:\n",
    "            input = [input]\n",
    "        if len(input) != len(self.weights):\n",
    "            raise ValueError(\"The number of inputs must be equal to the number of weights.\")\n",
    "        total = 0.0\n",
    "        for i in range(len(input)):\n",
    "            total += input[i] * self.weights[i]\n",
    "        return self.sigmoid_activation(total + self.bias)\n",
    "    \n",
    "    def update_error(self, input, output, desired):\n",
    "        if self.output_neuron:\n",
    "            self.delta = sigmoid_derivative(input) * -(desired - output)\n",
    "        \n",
    "class NeuronLayer():\n",
    "    def __init__(self, name, neurons):\n",
    "        self.name = name\n",
    "        self.neurons = neurons\n",
    "\n",
    "    def __str__(self):\n",
    "        return f\"NeuronLayer '{self.name}' with {len(self.neurons)} neurons.\"\n",
    "\n",
    "    def output(self, input):\n",
    "        return [p.output(input) for p in self.neurons] if hasattr(self.neurons, '__iter__') else self.perceptrons.output(input)\n",
    "        \n",
    "class NeuronNetwork():\n",
    "    def __init__(self, name, layers):\n",
    "        self.name = name\n",
    "        self.layers = layers\n",
    "\n",
    "    def __str__(self):\n",
    "        return f\"NeuronNetwork '{self.name}' with {len(self.layers)} layers.\"\n",
    "\n",
    "    def feed_forward(self, input):\n",
    "        for layer in self.layers:\n",
    "            # Feed forward\n",
    "            input = layer.output(input)\n",
    "        return input"
   ]
  }
 ],
 "metadata": {
  "kernelspec": {
   "display_name": "Python 3 (ipykernel)",
   "language": "python",
   "name": "python3"
  },
  "language_info": {
   "codemirror_mode": {
    "name": "ipython",
    "version": 3
   },
   "file_extension": ".py",
   "mimetype": "text/x-python",
   "name": "python",
   "nbconvert_exporter": "python",
   "pygments_lexer": "ipython3",
   "version": "3.12.0"
  }
 },
 "nbformat": 4,
 "nbformat_minor": 4
}
