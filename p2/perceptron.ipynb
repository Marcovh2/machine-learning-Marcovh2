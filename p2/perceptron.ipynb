{
 "cells": [
  {
   "cell_type": "markdown",
   "metadata": {},
   "source": [
    "## 1. Schrijf een klasse Perceptron"
   ]
  },
  {
   "cell_type": "code",
   "execution_count": 1,
   "metadata": {},
   "outputs": [],
   "source": [
    "class Perceptron():\n",
    "    def __init__(self, name, weights, bias):\n",
    "        self.name = name\n",
    "        self.weights = weights\n",
    "        self.bias = bias\n",
    "        self.accum_loss = 0\n",
    "        self.training_iterations = 0\n",
    "\n",
    "    def __str__(self):\n",
    "        return f\"Perceptron '{self.name}' with input weights {self.weights} and bias {self.bias}.\"\n",
    "    \n",
    "    def output(self, input):\n",
    "        if type(input) == int:\n",
    "            input = [input]\n",
    "        if len(input) != len(self.weights):\n",
    "            raise ValueError(\"The number of inputs must be equal to the number of weights.\")\n",
    "        total = 0\n",
    "        for i in range(len(input)):\n",
    "            total += input[i] * self.weights[i]\n",
    "        return int(total + self.bias >= 0)\n",
    "    \n",
    "    def update(self, learning_rate, input, desired):\n",
    "        output = self.output(input)\n",
    "        error = desired - output\n",
    "        self.bias += learning_rate * error\n",
    "        for i in range(len(self.weights)):\n",
    "            self.weights[i] += learning_rate * error * input[i]\n",
    "        self.accum_loss += error**2\n",
    "        self.training_iterations += 1\n",
    "\n",
    "    def loss(self):\n",
    "        try:\n",
    "            return self.accum_loss / self.training_iterations\n",
    "        except ZeroDivisionError:\n",
    "            return 0\n",
    "\n",
    "\n"
   ]
  },
  {
   "cell_type": "markdown",
   "metadata": {},
   "source": [
    "## 2. Test je Perceptron"
   ]
  },
  {
   "cell_type": "markdown",
   "metadata": {},
   "source": [
    "### a. Initialiseer een Perceptron voor elk van de INVERT-, AND- en OR-poorten en test of ze op de juiste manier werken."
   ]
  },
  {
   "cell_type": "code",
   "execution_count": 2,
   "metadata": {},
   "outputs": [],
   "source": [
    "onebit_binary_combinations = (0, 1)\n",
    "twobit_binary_combinations = ((0, 0), (0, 1), (1, 0), (1, 1))\n",
    "threebit_binary_combinations = ((0, 0, 0), (0, 0, 1), (0, 1, 0), (0, 1, 1), (1, 0, 0), (1, 0, 1), (1, 1, 0), (1, 1, 1))"
   ]
  },
  {
   "cell_type": "markdown",
   "metadata": {},
   "source": [
    "INVERT"
   ]
  },
  {
   "cell_type": "code",
   "execution_count": 3,
   "metadata": {},
   "outputs": [
    {
     "name": "stdout",
     "output_type": "stream",
     "text": [
      "Perceptron 'NOT' with input weights [-1] and bias 0.\n",
      "NOT 0 = 1\n",
      "NOT 1 = 0\n"
     ]
    }
   ],
   "source": [
    "p_inv = Perceptron(\"NOT\", [-1], 0)\n",
    "print(p_inv)\n",
    "\n",
    "for input in onebit_binary_combinations:\n",
    "    print(f\"NOT {input} = {p_inv.output(input)}\")"
   ]
  },
  {
   "cell_type": "markdown",
   "metadata": {},
   "source": [
    "AND"
   ]
  },
  {
   "cell_type": "code",
   "execution_count": 4,
   "metadata": {},
   "outputs": [
    {
     "name": "stdout",
     "output_type": "stream",
     "text": [
      "Perceptron 'AND' with input weights [1, 1] and bias -2.\n",
      "Input: (0, 0), Output: 0\n",
      "Input: (0, 1), Output: 0\n",
      "Input: (1, 0), Output: 0\n",
      "Input: (1, 1), Output: 1\n"
     ]
    }
   ],
   "source": [
    "p_and = Perceptron(\"AND\", [1, 1], -2)\n",
    "print(p_and)\n",
    "\n",
    "for i in twobit_binary_combinations:\n",
    "    print(f\"Input: {i}, Output: {p_and.output(i)}\")"
   ]
  },
  {
   "cell_type": "markdown",
   "metadata": {},
   "source": [
    "OR"
   ]
  },
  {
   "cell_type": "code",
   "execution_count": 5,
   "metadata": {},
   "outputs": [
    {
     "name": "stdout",
     "output_type": "stream",
     "text": [
      "Perceptron 'OR' with input weights [1, 1] and bias -1.\n",
      "Input: (0, 0), Output: 0\n",
      "Input: (0, 1), Output: 1\n",
      "Input: (1, 0), Output: 1\n",
      "Input: (1, 1), Output: 1\n"
     ]
    }
   ],
   "source": [
    "p_or = Perceptron(\"OR\", [1, 1], -1)\n",
    "print(p_or)\n",
    "\n",
    "for i in twobit_binary_combinations:\n",
    "    print(f\"Input: {i}, Output: {p_or.output(i)}\")"
   ]
  },
  {
   "cell_type": "markdown",
   "metadata": {},
   "source": [
    "### b. Initialiseer een Perceptron voor een NOR-poort met drie ingangen en test of deze op de juiste manier werkt."
   ]
  },
  {
   "cell_type": "code",
   "execution_count": 6,
   "metadata": {},
   "outputs": [
    {
     "name": "stdout",
     "output_type": "stream",
     "text": [
      "Perceptron 'NOR' with input weights [-1, -1, -1] and bias 0.\n",
      "Input: (0, 0, 0), Output: 1\n",
      "Input: (0, 0, 1), Output: 0\n",
      "Input: (0, 1, 0), Output: 0\n",
      "Input: (0, 1, 1), Output: 0\n",
      "Input: (1, 0, 0), Output: 0\n",
      "Input: (1, 0, 1), Output: 0\n",
      "Input: (1, 1, 0), Output: 0\n",
      "Input: (1, 1, 1), Output: 0\n"
     ]
    }
   ],
   "source": [
    "p_nor = Perceptron(\"NOR\", [-1, -1, -1], 0)\n",
    "print(p_nor)\n",
    "\n",
    "for i in threebit_binary_combinations:\n",
    "    print(f\"Input: {i}, Output: {p_nor.output(i)}\")"
   ]
  },
  {
   "cell_type": "markdown",
   "metadata": {},
   "source": [
    "### c. Initialiseer ook een Perceptron voor een uitgebreider beslissysteem (minimaal 3 inputs, zie bijvoorbeeld Figuur 2.8 uit de reader) en test of deze naar verwachting werkt."
   ]
  },
  {
   "cell_type": "code",
   "execution_count": 7,
   "metadata": {},
   "outputs": [
    {
     "name": "stdout",
     "output_type": "stream",
     "text": [
      "Perceptron 'Min-2' with input weights [1, 1, 1] and bias -2.\n",
      "Input: (0, 0, 0), Output: 0\n",
      "Input: (0, 0, 1), Output: 0\n",
      "Input: (0, 1, 0), Output: 0\n",
      "Input: (0, 1, 1), Output: 1\n",
      "Input: (1, 0, 0), Output: 0\n",
      "Input: (1, 0, 1), Output: 1\n",
      "Input: (1, 1, 0), Output: 1\n",
      "Input: (1, 1, 1), Output: 1\n"
     ]
    }
   ],
   "source": [
    "p_two_min = Perceptron(\"Min-2\", [1, 1, 1], -2)\n",
    "print(p_two_min)\n",
    "\n",
    "for i in threebit_binary_combinations:\n",
    "    print(f\"Input: {i}, Output: {p_two_min.output(i)}\")"
   ]
  },
  {
   "cell_type": "markdown",
   "metadata": {},
   "source": [
    "De NAND is straks nodig voor het netwerk"
   ]
  },
  {
   "cell_type": "code",
   "execution_count": 8,
   "metadata": {},
   "outputs": [
    {
     "name": "stdout",
     "output_type": "stream",
     "text": [
      "Perceptron 'NAND' with input weights [-1, -1] and bias 1.\n",
      "Input: (0, 0), Output: 1\n",
      "Input: (0, 1), Output: 1\n",
      "Input: (1, 0), Output: 1\n",
      "Input: (1, 1), Output: 0\n"
     ]
    }
   ],
   "source": [
    "p_nand = Perceptron(\"NAND\", [-1, -1], 1)\n",
    "print(p_nand)\n",
    "\n",
    "for i in twobit_binary_combinations:\n",
    "    print(f\"Input: {i}, Output: {p_nand.output(i)}\")"
   ]
  },
  {
   "cell_type": "markdown",
   "metadata": {},
   "source": [
    "## 3. Schrijf een klasse PerceptronLayer. Een laag heeft één of meer Perceptrons en levert bij activatie dus eenzelfde aantal outputs. Schrijf ook een __str__() methode."
   ]
  },
  {
   "cell_type": "code",
   "execution_count": 9,
   "metadata": {},
   "outputs": [],
   "source": [
    "class PerceptronLayer():\n",
    "    def __init__(self, name, perceptrons):\n",
    "        self.name = name\n",
    "        self.perceptrons = perceptrons\n",
    "\n",
    "    def __str__(self):\n",
    "        return f\"PerceptronLayer '{self.name}' with {len(self.perceptrons)} perceptrons.\"\n",
    "\n",
    "    def output(self, input):\n",
    "        return [p.output(input) for p in self.perceptrons] if hasattr(self.perceptrons, '__iter__') else self.perceptrons.output(input)"
   ]
  },
  {
   "cell_type": "markdown",
   "metadata": {},
   "source": [
    "## 4. Schrijf een klasse PerceptronNetwork. Een netwerk heeft één of meer PerceptronLayers. Schrijf een methode die de uitvoer van het netwerk bepaalt bij een gegeven input door middel van feed forward. Voeg ook een __str__() methode toe."
   ]
  },
  {
   "cell_type": "code",
   "execution_count": 10,
   "metadata": {},
   "outputs": [],
   "source": [
    "class PerceptronNetwork():\n",
    "    def __init__(self, name, layers):\n",
    "        self.name = name\n",
    "        self.layers = layers\n",
    "\n",
    "    def __str__(self):\n",
    "        return f\"PerceptronNetwork '{self.name}' with {len(self.layers)} layers.\"\n",
    "\n",
    "    def output(self, input):\n",
    "        for layer in self.layers:\n",
    "            # Feed forward\n",
    "            input = layer.output(input)\n",
    "        return input"
   ]
  },
  {
   "cell_type": "markdown",
   "metadata": {},
   "source": [
    "## 5. Test je PerceptronNetwork"
   ]
  },
  {
   "cell_type": "markdown",
   "metadata": {},
   "source": [
    "### a. Initialiseer een PerceptronNetwork voor de XOR-poort met twee ingangen en test of deze op de juiste manier werkt."
   ]
  },
  {
   "cell_type": "code",
   "execution_count": 11,
   "metadata": {},
   "outputs": [
    {
     "name": "stdout",
     "output_type": "stream",
     "text": [
      "PerceptronNetwork 'XOR' with 2 layers.\n",
      "Input: (0, 0), Output: 0\n",
      "Input: (0, 1), Output: 1\n",
      "Input: (1, 0), Output: 1\n",
      "Input: (1, 1), Output: 0\n"
     ]
    }
   ],
   "source": [
    "xor_layer = PerceptronLayer(\"Logic\", [p_nand, p_or])\n",
    "xor_output_layer = PerceptronLayer(\"Output\", p_and)\n",
    "xor = PerceptronNetwork(\"XOR\", [xor_layer, xor_output_layer])\n",
    "print(xor)\n",
    "\n",
    "for i in twobit_binary_combinations:\n",
    "    print(f\"Input: {i}, Output: {xor.output(i)}\")"
   ]
  },
  {
   "cell_type": "markdown",
   "metadata": {},
   "source": [
    "### b. Initialiseer een PerceptronNetwork voor de half adder en test of deze op de juiste manier werkt."
   ]
  },
  {
   "cell_type": "code",
   "execution_count": 12,
   "metadata": {},
   "outputs": [
    {
     "name": "stdout",
     "output_type": "stream",
     "text": [
      "PerceptronNetwork 'Half Adder' with 2 layers.\n",
      "Input: (0, 0), Output: [0, 0]\n",
      "Input: (0, 1), Output: [0, 1]\n",
      "Input: (1, 0), Output: [0, 1]\n",
      "Input: (1, 1), Output: [1, 0]\n"
     ]
    }
   ],
   "source": [
    "half_adder_layer = PerceptronLayer(\"Half Adder\", [p_or, p_nand, p_and])\n",
    "\n",
    "p_HA_1 = Perceptron(\"Half Adder AND\", [0, 0, 1], bias=-1)\n",
    "p_HA_2 = Perceptron(\"Half Adder XOR\", [1, 1, 0], bias=-2)\n",
    "half_adder_output_layer = PerceptronLayer(\"Output\", [p_HA_1, p_HA_2])\n",
    "half_adder = PerceptronNetwork(\"Half Adder\", [half_adder_layer, half_adder_output_layer])\n",
    "print(half_adder)\n",
    "\n",
    "for i in twobit_binary_combinations:\n",
    "    print(f\"Input: {i}, Output: {half_adder.output(i)}\")"
   ]
  },
  {
   "cell_type": "markdown",
   "metadata": {},
   "source": [
    "## 1. Schrijf een update() methode die bovenstaande learning rule implementeert.\n",
    "Zie de klasse Perceptron aan het begin van de notebook. Deze is daarop aangepast."
   ]
  },
  {
   "cell_type": "markdown",
   "metadata": {},
   "source": [
    "## 2. Schrijf een loss() methode die de totale loss (MSE) over alle trainingsvoorbeelden berekent.\n",
    "Zie de klasse Perceptron aan het begin van de notebook. Deze is daarop aangepast."
   ]
  },
  {
   "cell_type": "markdown",
   "metadata": {},
   "source": [
    "## 3. Test het leeralgoritme van je Perceptron."
   ]
  },
  {
   "cell_type": "markdown",
   "metadata": {},
   "source": [
    "### a. Train de perceptron tot het de AND-functie heeft geleerd. Initialiseer een perceptron met willekeurige startwaarden. Wat zijn de uiteindelijke parameters van de perceptron?"
   ]
  },
  {
   "cell_type": "code",
   "execution_count": 82,
   "metadata": {},
   "outputs": [],
   "source": [
    "def train_perceptron(perceptron, train_data, learning_rate, method_value, method='loss'):\n",
    "    if method == 'loss':\n",
    "        while perceptron.loss() > method_value or perceptron.training_iterations < 1:\n",
    "            for input, desired in train_data:\n",
    "                perceptron.update(learning_rate, input, desired)\n",
    "    elif method == 'iterations':\n",
    "        while perceptron.training_iterations < method_value:\n",
    "            for input, desired in train_data:\n",
    "                perceptron.update(learning_rate, input, desired)\n",
    "    print(f\"Training complete after {perceptron.training_iterations} iterations with a final loss of {perceptron.loss()}.\")\n",
    "\n",
    "    "
   ]
  },
  {
   "cell_type": "code",
   "execution_count": 84,
   "metadata": {},
   "outputs": [
    {
     "name": "stdout",
     "output_type": "stream",
     "text": [
      "Initiële waardes AND-perceptron:  Perceptron 'Train to AND' with input weights [5, 5] and bias -3.\n",
      "Training complete after 20 iterations with a final loss of 0.1.\n",
      "Uiteindelijke waardes AND-perceptron:  Perceptron 'Train to AND' with input weights [4, 4] and bias -5.\n"
     ]
    }
   ],
   "source": [
    "import random\n",
    "\n",
    "weights = [random.randint(-5, 5) for _ in range(2)]\n",
    "bias = random.randint(-5, 5)\n",
    "\n",
    "p_train = Perceptron(\"Train to AND\", weights, bias)\n",
    "print(\"Initiële waardes AND-perceptron: \", p_train)\n",
    "\n",
    "AND_train = [\n",
    "    ((0, 0), 0),\n",
    "    ((0, 1), 0),\n",
    "    ((1, 0), 0),\n",
    "    ((1, 1), 1)\n",
    "]\n",
    "\n",
    "learning_rate = 1\n",
    "\n",
    "loss_threshold = 0.1\n",
    "\n",
    "train_perceptron(p_train, AND_train, learning_rate, method='loss', method_value=loss_threshold)\n",
    "\n",
    "print(\"Uiteindelijke waardes AND-perceptron: \", p_train)"
   ]
  },
  {
   "cell_type": "code",
   "execution_count": 85,
   "metadata": {},
   "outputs": [
    {
     "name": "stdout",
     "output_type": "stream",
     "text": [
      "Perceptron 'Train to AND' with input weights [4, 4] and bias -5.\n",
      "Input: (0, 0), Output: 0\n",
      "Input: (0, 1), Output: 0\n",
      "Input: (1, 0), Output: 0\n",
      "Input: (1, 1), Output: 1\n"
     ]
    }
   ],
   "source": [
    "p_and = p_train\n",
    "print(p_and)\n",
    "\n",
    "for i in twobit_binary_combinations:\n",
    "    print(f\"Input: {i}, Output: {p_and.output(i)}\")"
   ]
  },
  {
   "cell_type": "markdown",
   "metadata": {},
   "source": [
    "### b. Train de perceptron tot het de XOR-functie heeft geleerd. Initialiseer een perceptron met willekeurige startwaarden. Lukt dit? Wat zijn de uiteindelijke parameters van de perceptron?\n",
    "Het is niet gelukt om deze perceptron te trainen op de XOR-functie, te zien aan de loss waarde hieronder en de testwaarden."
   ]
  },
  {
   "cell_type": "code",
   "execution_count": 89,
   "metadata": {},
   "outputs": [
    {
     "name": "stdout",
     "output_type": "stream",
     "text": [
      "Perceptron 'Train to XOR' with input weights [4, -4] and bias 5.\n",
      "Training complete after 50000 iterations with a final loss of 0.9997.\n",
      "Perceptron 'Train to XOR' with input weights [-1, -1] and bias 0.\n"
     ]
    }
   ],
   "source": [
    "import random\n",
    "\n",
    "weights = [random.randint(-5, 5) for _ in range(2)]\n",
    "bias = random.randint(-5, 5)\n",
    "\n",
    "p_train = Perceptron(\"Train to XOR\", weights, bias)\n",
    "print(p_train)\n",
    "\n",
    "XOR_train = [\n",
    "    ((0, 0), 0),\n",
    "    ((0, 1), 1),\n",
    "    ((1, 0), 1),\n",
    "    ((1, 1), 0)\n",
    "]\n",
    "\n",
    "learning_rate = 1\n",
    "\n",
    "iterations = 5000\n",
    "\n",
    "train_perceptron(p_train, XOR_train, learning_rate, method='iterations', method_value=iterations)\n",
    "\n",
    "print(p_train)"
   ]
  },
  {
   "cell_type": "code",
   "execution_count": 90,
   "metadata": {},
   "outputs": [
    {
     "name": "stdout",
     "output_type": "stream",
     "text": [
      "Perceptron 'Train to XOR' with input weights [-1, -1] and bias 0.\n",
      "Input: (0, 0), Output: 1\n",
      "Input: (0, 1), Output: 0\n",
      "Input: (1, 0), Output: 0\n",
      "Input: (1, 1), Output: 0\n"
     ]
    }
   ],
   "source": [
    "p_xor = p_train\n",
    "print(p_xor)\n",
    "\n",
    "for i in twobit_binary_combinations:\n",
    "    print(f\"Input: {i}, Output: {p_xor.output(i)}\")"
   ]
  },
  {
   "cell_type": "markdown",
   "metadata": {},
   "source": [
    "### c. Train de perceptron om de Iris-datasetLinks to an external site. te classificeren. Je kunt de Iris-dataset eenvoudig importeren met from sklearn.datasets import load_iris. Initialiseer een perceptron met willekeurige startwaarden, waarbij je je studentnummer gebruikt als random seed"
   ]
  },
  {
   "cell_type": "markdown",
   "metadata": {},
   "source": [
    "#### i. Classificeer de types Setosa en Versicolor (het type Virginica moet je dus uit de dataset filteren). Lukt dit? Wat zijn de uiteindelijke parameters van de perceptron?"
   ]
  },
  {
   "cell_type": "code",
   "execution_count": 92,
   "metadata": {},
   "outputs": [
    {
     "name": "stdout",
     "output_type": "stream",
     "text": [
      "Training complete after 6000 iterations with a final loss of 0.001.\n"
     ]
    }
   ],
   "source": [
    "random.seed(1832827)\n",
    "\n",
    "from sklearn.datasets import load_iris\n",
    "iris = load_iris()\n",
    "\n",
    "X = iris.data\n",
    "y = iris.target\n",
    "\n",
    "iris_train_setosa_versicolor = []\n",
    "\n",
    "for i in range (len(X)):\n",
    "    if y[i] != 2:\n",
    "        iris_train_setosa_versicolor.append((X[i], y[i]))\n",
    "\n",
    "weights = [random.randint(-3, 3) for _ in range(4)]\n",
    "bias = random.randint(-3, 3)\n",
    "learning_rate = 0.2\n",
    "loss_threshold = 0.001\n",
    "\n",
    "p_iris = Perceptron(\"IRIS\", weights, bias)\n",
    "\n",
    "train_perceptron(p_iris, iris_train_setosa_versicolor, learning_rate, method='loss', method_value=loss_threshold)"
   ]
  },
  {
   "cell_type": "markdown",
   "metadata": {},
   "source": [
    "Hieronder staan 20 willekeurige tests uit de IRIS dataset om de perceptron te testen."
   ]
  },
  {
   "cell_type": "code",
   "execution_count": 93,
   "metadata": {},
   "outputs": [
    {
     "name": "stdout",
     "output_type": "stream",
     "text": [
      "Input: [5.  3.5 1.6 0.6], Desired: 0, Output: 0, Correct: True.\n",
      "Input: [5.8 2.6 4.  1.2], Desired: 1, Output: 1, Correct: True.\n",
      "Input: [5.1 3.8 1.5 0.3], Desired: 0, Output: 0, Correct: True.\n",
      "Input: [5.  3.4 1.6 0.4], Desired: 0, Output: 0, Correct: True.\n",
      "Input: [6.  2.2 4.  1. ], Desired: 1, Output: 1, Correct: True.\n",
      "Input: [5.1 3.5 1.4 0.3], Desired: 0, Output: 0, Correct: True.\n",
      "Input: [4.5 2.3 1.3 0.3], Desired: 0, Output: 0, Correct: True.\n",
      "Input: [5.8 2.7 4.1 1. ], Desired: 1, Output: 1, Correct: True.\n",
      "Input: [6.1 3.  4.6 1.4], Desired: 1, Output: 1, Correct: True.\n",
      "Input: [4.3 3.  1.1 0.1], Desired: 0, Output: 0, Correct: True.\n",
      "Input: [6.1 3.  4.6 1.4], Desired: 1, Output: 1, Correct: True.\n",
      "Input: [5.1 3.4 1.5 0.2], Desired: 0, Output: 0, Correct: True.\n",
      "Input: [6.  3.4 4.5 1.6], Desired: 1, Output: 1, Correct: True.\n",
      "Input: [5.9 3.  4.2 1.5], Desired: 1, Output: 1, Correct: True.\n",
      "Input: [5.  3.4 1.6 0.4], Desired: 0, Output: 0, Correct: True.\n",
      "Input: [5.9 3.  4.2 1.5], Desired: 1, Output: 1, Correct: True.\n",
      "Input: [6.5 2.8 4.6 1.5], Desired: 1, Output: 1, Correct: True.\n",
      "Input: [5.5 2.4 3.7 1. ], Desired: 1, Output: 1, Correct: True.\n",
      "Input: [5.7 4.4 1.5 0.4], Desired: 0, Output: 0, Correct: True.\n",
      "Input: [5.5 2.6 4.4 1.2], Desired: 1, Output: 1, Correct: True.\n"
     ]
    }
   ],
   "source": [
    "for i in range(20):\n",
    "    index = random.randint(0, len(iris_train_setosa_versicolor) - 1)\n",
    "    input = iris_train_setosa_versicolor[index][0]\n",
    "    desired = iris_train_setosa_versicolor[index][1]\n",
    "    output = p_iris.output(input)\n",
    "    print(f\"Input: {input}, Desired: {desired}, Output: {output}, Correct: {desired == output}.\")"
   ]
  },
  {
   "cell_type": "markdown",
   "metadata": {},
   "source": [
    "#### ii. Classificeer nu de types Versicolor en Virginica. Lukt dit? Wat zijn de uiteindelijke parameters van de perceptron?\n",
    "Dit lukt niet. Daarom pas ik de training methode aan naar iteraties, omdat er anders een oneindige loop ontstaat."
   ]
  },
  {
   "cell_type": "code",
   "execution_count": 97,
   "metadata": {},
   "outputs": [
    {
     "name": "stdout",
     "output_type": "stream",
     "text": [
      "Training complete after 5000 iterations with a final loss of 0.5004.\n"
     ]
    }
   ],
   "source": [
    "iris_train_versicolor_virginica = []\n",
    "\n",
    "for i in range (len(X)):\n",
    "    if y[i] != 0:\n",
    "        iris_train_versicolor_virginica.append((X[i], y[i]))\n",
    "\n",
    "weights = [random.randint(-3, 3) for _ in range(4)]\n",
    "bias = random.randint(-3, 3)\n",
    "learning_rate = 0.2\n",
    "iterations = 5000\n",
    "\n",
    "p_iris = Perceptron(\"IRIS\", weights, bias)\n",
    "\n",
    "train_perceptron(p_iris, iris_train_versicolor_virginica, learning_rate, method='iterations', method_value=iterations)"
   ]
  },
  {
   "cell_type": "code",
   "execution_count": 98,
   "metadata": {},
   "outputs": [
    {
     "name": "stdout",
     "output_type": "stream",
     "text": [
      "Input: [5.5 2.3 4.  1.3], Desired: 1, Output: 1, Correct: True.\n",
      "Input: [6.  2.7 5.1 1.6], Desired: 1, Output: 1, Correct: True.\n",
      "Input: [5.6 2.7 4.2 1.3], Desired: 1, Output: 1, Correct: True.\n",
      "Input: [5.7 2.8 4.5 1.3], Desired: 1, Output: 1, Correct: True.\n",
      "Input: [5.5 2.4 3.7 1. ], Desired: 1, Output: 1, Correct: True.\n",
      "Input: [7.9 3.8 6.4 2. ], Desired: 2, Output: 1, Correct: False.\n",
      "Input: [6.  2.7 5.1 1.6], Desired: 1, Output: 1, Correct: True.\n",
      "Input: [6.4 3.2 5.3 2.3], Desired: 2, Output: 1, Correct: False.\n",
      "Input: [7.2 3.6 6.1 2.5], Desired: 2, Output: 1, Correct: False.\n",
      "Input: [6.4 2.8 5.6 2.1], Desired: 2, Output: 1, Correct: False.\n",
      "Input: [6.7 2.5 5.8 1.8], Desired: 2, Output: 1, Correct: False.\n",
      "Input: [6.6 3.  4.4 1.4], Desired: 1, Output: 1, Correct: True.\n",
      "Input: [6.4 3.1 5.5 1.8], Desired: 2, Output: 1, Correct: False.\n",
      "Input: [6.4 2.8 5.6 2.2], Desired: 2, Output: 1, Correct: False.\n",
      "Input: [4.9 2.4 3.3 1. ], Desired: 1, Output: 1, Correct: True.\n",
      "Input: [7.2 3.6 6.1 2.5], Desired: 2, Output: 1, Correct: False.\n",
      "Input: [6.2 2.2 4.5 1.5], Desired: 1, Output: 1, Correct: True.\n",
      "Input: [6.5 3.  5.8 2.2], Desired: 2, Output: 1, Correct: False.\n",
      "Input: [5.8 2.7 4.1 1. ], Desired: 1, Output: 1, Correct: True.\n",
      "Input: [6.3 2.9 5.6 1.8], Desired: 2, Output: 1, Correct: False.\n"
     ]
    }
   ],
   "source": [
    "for i in range(20):\n",
    "    index = random.randint(0, len(iris_train_versicolor_virginica) - 1)\n",
    "    input = iris_train_versicolor_virginica[index][0]\n",
    "    desired = iris_train_versicolor_virginica[index][1]\n",
    "    output = p_iris.output(input)\n",
    "    print(f\"Input: {input}, Desired: {desired}, Output: {output}, Correct: {desired == output}.\")"
   ]
  }
 ],
 "metadata": {
  "kernelspec": {
   "display_name": "Python 3 (ipykernel)",
   "language": "python",
   "name": "python3"
  },
  "language_info": {
   "codemirror_mode": {
    "name": "ipython",
    "version": 3
   },
   "file_extension": ".py",
   "mimetype": "text/x-python",
   "name": "python",
   "nbconvert_exporter": "python",
   "pygments_lexer": "ipython3",
   "version": "3.12.0"
  }
 },
 "nbformat": 4,
 "nbformat_minor": 4
}
