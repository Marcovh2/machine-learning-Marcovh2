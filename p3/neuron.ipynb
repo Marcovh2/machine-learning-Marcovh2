{
 "cells": [
  {
   "cell_type": "markdown",
   "metadata": {},
   "source": [
    "## 1. Schrijf een klasse Neuron"
   ]
  },
  {
   "cell_type": "code",
   "execution_count": 82,
   "metadata": {},
   "outputs": [],
   "source": [
    "import math\n",
    "\n",
    "class Neuron():\n",
    "    def __init__(self, name, weights, bias, binary_output=False):\n",
    "        self.name = name\n",
    "        self.weights = [float(x) for x in weights]\n",
    "        self.bias = float(bias)\n",
    "        self.binary = binary_output\n",
    "\n",
    "    def __str__(self):\n",
    "        return f\"Neuron '{self.name}' with input weights {self.weights} and bias {self.bias}.\"\n",
    "    \n",
    "    def sigmoid_activation(self, x):\n",
    "         return 1 / (1 + math.exp(-x))\n",
    "    \n",
    "    def output(self, input):\n",
    "        if type(input) == int:\n",
    "            input = [input]\n",
    "        if len(input) != len(self.weights):\n",
    "            raise ValueError(\"The number of inputs must be equal to the number of weights.\")\n",
    "        total = 0.0\n",
    "        for i in range(len(input)):\n",
    "            total += input[i] * self.weights[i]\n",
    "        output = self.sigmoid_activation(total + self.bias)\n",
    "        if self.binary:\n",
    "            return int(self.sigmoid_activation(total + self.bias) > 0.5)\n",
    "        else:\n",
    "            return self.sigmoid_activation(total + self.bias)"
   ]
  },
  {
   "cell_type": "markdown",
   "metadata": {},
   "source": [
    "## 2. Test je Neuron"
   ]
  },
  {
   "cell_type": "markdown",
   "metadata": {},
   "source": [
    "### a. Initialiseer een Neuron voor elk van de INVERT-, AND- en OR-poorten met dezelfde parameters als bij de Percepton . Verklaar waarom dit (niet) werkt? Als het niet goed werkt, initialiseer de Neuron dan met andere parameters, zodat de poorten wel correct functioneren. Een neuron geeft natuurlijk een getal tussen de 0 en de 1 terug, en nooit exact een 0 of een 1. Dus je mag je neuron als succesvol beschouwen als ie een getal boven de 0.5 teruggeeft als het een 1 moet zijn, en een getal onder de 0.5 als het een 0 moet zijn."
   ]
  },
  {
   "cell_type": "code",
   "execution_count": 83,
   "metadata": {},
   "outputs": [],
   "source": [
    "onebit_binary_combinations = (0, 1)\n",
    "twobit_binary_combinations = ((0, 0), (0, 1), (1, 0), (1, 1))\n",
    "threebit_binary_combinations = ((0, 0, 0), (0, 0, 1), (0, 1, 0), (0, 1, 1), (1, 0, 0), (1, 0, 1), (1, 1, 0), (1, 1, 1))"
   ]
  },
  {
   "cell_type": "markdown",
   "metadata": {},
   "source": [
    "INVERT"
   ]
  },
  {
   "cell_type": "markdown",
   "metadata": {},
   "source": [
    "Dezelfde parameters als bij de perceptron:"
   ]
  },
  {
   "cell_type": "code",
   "execution_count": 84,
   "metadata": {},
   "outputs": [
    {
     "name": "stdout",
     "output_type": "stream",
     "text": [
      "Neuron 'NOT' with input weights [-1.0] and bias 0.0.\n",
      "NOT 0 = 0.5\n",
      "NOT 1 = 0.2689414213699951\n"
     ]
    }
   ],
   "source": [
    "n_inv = Neuron(\"NOT\", [-1], 0)\n",
    "print(n_inv)\n",
    "\n",
    "for input in onebit_binary_combinations:\n",
    "    print(f\"NOT {input} = {n_inv.output(input)}\")"
   ]
  },
  {
   "cell_type": "markdown",
   "metadata": {},
   "source": [
    "Een neuron initialiseren met dezelfde parameters als we bij de perceptron deden werkt niet. Dit komt door twee redenen:\n",
    "\n",
    "1. Neuronen hebben standaard een continue getal / float als output. Dit is makkelijk op te lossen met de oplossing die de opdracht meegeeft (als het boven de 0.5 True anders False).\n",
    "2. Als we bovenstaande oplossing toepassen, dan moeten we de bias ook met 0.5 verhogen, omdat de perceptron threshold 0 was. Nu is dat 0.5.\n",
    "\n",
    "Door deze oplossingen toe te passen werken onze neuronen precies als de perceptrons."
   ]
  },
  {
   "cell_type": "markdown",
   "metadata": {},
   "source": [
    "Aangepaste neuron parameters:"
   ]
  },
  {
   "cell_type": "code",
   "execution_count": 85,
   "metadata": {},
   "outputs": [
    {
     "name": "stdout",
     "output_type": "stream",
     "text": [
      "Neuron 'NOT' with input weights [-1.0] and bias 0.5.\n",
      "NOT 0 = 1\n",
      "NOT 1 = 0\n"
     ]
    }
   ],
   "source": [
    "n_inv = Neuron(\"NOT\", [-1], 0.5, binary_output=True)\n",
    "print(n_inv)\n",
    "\n",
    "for input in onebit_binary_combinations:\n",
    "    print(f\"NOT {input} = {n_inv.output(input)}\")"
   ]
  },
  {
   "cell_type": "markdown",
   "metadata": {},
   "source": [
    "AND"
   ]
  },
  {
   "cell_type": "markdown",
   "metadata": {},
   "source": [
    "Dezelfde parameters als bij de perceptron:"
   ]
  },
  {
   "cell_type": "code",
   "execution_count": 86,
   "metadata": {},
   "outputs": [
    {
     "name": "stdout",
     "output_type": "stream",
     "text": [
      "Neuron 'AND' with input weights [1.0, 1.0] and bias -2.0.\n",
      "Input: (0, 0), Output: 0.11920292202211755\n",
      "Input: (0, 1), Output: 0.2689414213699951\n",
      "Input: (1, 0), Output: 0.2689414213699951\n",
      "Input: (1, 1), Output: 0.5\n"
     ]
    }
   ],
   "source": [
    "n_and = Neuron(\"AND\", [1, 1], -2)\n",
    "print(n_and)\n",
    "\n",
    "for i in twobit_binary_combinations:\n",
    "    print(f\"Input: {i}, Output: {n_and.output(i)}\")"
   ]
  },
  {
   "cell_type": "markdown",
   "metadata": {},
   "source": [
    "Aangepaste neuron parameters:"
   ]
  },
  {
   "cell_type": "code",
   "execution_count": 87,
   "metadata": {},
   "outputs": [
    {
     "name": "stdout",
     "output_type": "stream",
     "text": [
      "Neuron 'AND' with input weights [1.0, 1.0] and bias -1.5.\n",
      "Input: (0, 0), Output: 0\n",
      "Input: (0, 1), Output: 0\n",
      "Input: (1, 0), Output: 0\n",
      "Input: (1, 1), Output: 1\n"
     ]
    }
   ],
   "source": [
    "n_and = Neuron(\"AND\", [1, 1], -1.5, binary_output=True)\n",
    "print(n_and)\n",
    "\n",
    "for i in twobit_binary_combinations:\n",
    "    print(f\"Input: {i}, Output: {n_and.output(i)}\")"
   ]
  },
  {
   "cell_type": "markdown",
   "metadata": {},
   "source": [
    "OR"
   ]
  },
  {
   "cell_type": "markdown",
   "metadata": {},
   "source": [
    "Dezelfde parameters als bij de perceptron:"
   ]
  },
  {
   "cell_type": "code",
   "execution_count": 88,
   "metadata": {},
   "outputs": [
    {
     "name": "stdout",
     "output_type": "stream",
     "text": [
      "Neuron 'OR' with input weights [1.0, 1.0] and bias -1.0.\n",
      "Input: (0, 0), Output: 0.2689414213699951\n",
      "Input: (0, 1), Output: 0.5\n",
      "Input: (1, 0), Output: 0.5\n",
      "Input: (1, 1), Output: 0.7310585786300049\n"
     ]
    }
   ],
   "source": [
    "n_or = Neuron(\"OR\", [1, 1], -1)\n",
    "print(n_or)\n",
    "\n",
    "for i in twobit_binary_combinations:\n",
    "    print(f\"Input: {i}, Output: {n_or.output(i)}\")"
   ]
  },
  {
   "cell_type": "markdown",
   "metadata": {},
   "source": [
    "Aangepaste Neuron parameters:"
   ]
  },
  {
   "cell_type": "code",
   "execution_count": 89,
   "metadata": {},
   "outputs": [
    {
     "name": "stdout",
     "output_type": "stream",
     "text": [
      "Neuron 'OR' with input weights [1.0, 1.0] and bias -0.5.\n",
      "Input: (0, 0), Output: 0\n",
      "Input: (0, 1), Output: 1\n",
      "Input: (1, 0), Output: 1\n",
      "Input: (1, 1), Output: 1\n"
     ]
    }
   ],
   "source": [
    "n_or = Neuron(\"OR\", [1, 1], -0.5, binary_output=True)\n",
    "print(n_or)\n",
    "\n",
    "for i in twobit_binary_combinations:\n",
    "    print(f\"Input: {i}, Output: {n_or.output(i)}\")"
   ]
  },
  {
   "cell_type": "markdown",
   "metadata": {},
   "source": [
    "### b. Initialiseer een Perceptron voor een NOR-poort met drie ingangen en test of deze op de juiste manier werkt."
   ]
  },
  {
   "cell_type": "code",
   "execution_count": 90,
   "metadata": {},
   "outputs": [
    {
     "name": "stdout",
     "output_type": "stream",
     "text": [
      "Neuron 'NOR' with input weights [-1.0, -1.0, -1.0] and bias 0.5.\n",
      "Input: (0, 0, 0), Output: 1\n",
      "Input: (0, 0, 1), Output: 0\n",
      "Input: (0, 1, 0), Output: 0\n",
      "Input: (0, 1, 1), Output: 0\n",
      "Input: (1, 0, 0), Output: 0\n",
      "Input: (1, 0, 1), Output: 0\n",
      "Input: (1, 1, 0), Output: 0\n",
      "Input: (1, 1, 1), Output: 0\n"
     ]
    }
   ],
   "source": [
    "n_nor = Neuron(\"NOR\", [-1, -1, -1], 0.5, binary_output=True)\n",
    "print(n_nor)\n",
    "\n",
    "for i in threebit_binary_combinations:\n",
    "    print(f\"Input: {i}, Output: {n_nor.output(i)}\")"
   ]
  },
  {
   "cell_type": "markdown",
   "metadata": {},
   "source": [
    "De NAND is straks nodig voor de Half Adder."
   ]
  },
  {
   "cell_type": "code",
   "execution_count": 91,
   "metadata": {},
   "outputs": [
    {
     "name": "stdout",
     "output_type": "stream",
     "text": [
      "Neuron 'NAND' with input weights [-1.0, -1.0] and bias 1.5.\n",
      "Input: (0, 0), Output: 1\n",
      "Input: (0, 1), Output: 1\n",
      "Input: (1, 0), Output: 1\n",
      "Input: (1, 1), Output: 0\n"
     ]
    }
   ],
   "source": [
    "n_nand = Neuron(\"NAND\", [-1, -1], 1.5, binary_output=True)\n",
    "print(n_nand)\n",
    "\n",
    "for i in twobit_binary_combinations:\n",
    "    print(f\"Input: {i}, Output: {n_nand.output(i)}\")"
   ]
  },
  {
   "cell_type": "markdown",
   "metadata": {},
   "source": [
    "## 3. Schrijf een klasse Neuronlayer."
   ]
  },
  {
   "cell_type": "code",
   "execution_count": 92,
   "metadata": {},
   "outputs": [],
   "source": [
    "class NeuronLayer():\n",
    "    def __init__(self, name, neurons):\n",
    "        self.name = name\n",
    "        self.neurons = neurons\n",
    "\n",
    "    def __str__(self):\n",
    "        return f\"NeuronLayer '{self.name}' with {len(self.neurons)} neurons.\"\n",
    "\n",
    "    def output(self, input):\n",
    "        return [p.output(input) for p in self.neurons] if hasattr(self.neurons, '__iter__') else self.perceptrons.output(input)"
   ]
  },
  {
   "cell_type": "markdown",
   "metadata": {},
   "source": [
    "## 4. Schrijf een klasse NeuronNetwork. Een netwerk heeft één of meer NeuronLayers"
   ]
  },
  {
   "cell_type": "code",
   "execution_count": 93,
   "metadata": {},
   "outputs": [],
   "source": [
    "class NeuronNetwork():\n",
    "    def __init__(self, name, layers):\n",
    "        self.name = name\n",
    "        self.layers = layers\n",
    "\n",
    "    def __str__(self):\n",
    "        return f\"NeuronNetwork '{self.name}' with {len(self.layers)} layers.\"\n",
    "\n",
    "    def feed_forward(self, input):\n",
    "        for layer in self.layers:\n",
    "            # Feed forward\n",
    "            input = layer.output(input)\n",
    "        return input"
   ]
  },
  {
   "cell_type": "markdown",
   "metadata": {},
   "source": [
    "## 5. Test je netwerk door een NeuronNetwork voor de half adder te maken. Ooh hier geldt dat een neuron een getal tussen de 0 en de 1 terug, en nooit exact een 0 of een 1. Dus je mag je neuron als succesvol beschouwen als ie een getal boven de 0.5 teruggeeft als het een 1 moet zijn, en een getal onder de 0.5 als het een 0 moet zijn."
   ]
  },
  {
   "cell_type": "code",
   "execution_count": 94,
   "metadata": {},
   "outputs": [
    {
     "name": "stdout",
     "output_type": "stream",
     "text": [
      "NeuronNetwork 'Half Adder' with 2 layers.\n",
      "Input: (0, 0), Output: [0, 0]\n",
      "Input: (0, 1), Output: [0, 1]\n",
      "Input: (1, 0), Output: [0, 1]\n",
      "Input: (1, 1), Output: [1, 0]\n"
     ]
    }
   ],
   "source": [
    "half_adder_layer = NeuronLayer(\"Half Adder\", [n_or, n_nand, n_and])\n",
    "\n",
    "p_HA_1 = Neuron(\"Half Adder AND\", [0, 0, 1], bias=-0.5, binary_output=True)\n",
    "p_HA_2 = Neuron(\"Half Adder XOR\", [1, 1, 0], bias=-1.5, binary_output=True)\n",
    "half_adder_output_layer = NeuronLayer(\"Output\", [p_HA_1, p_HA_2])\n",
    "half_adder = NeuronNetwork(\"Half Adder\", [half_adder_layer, half_adder_output_layer])\n",
    "print(half_adder)\n",
    "\n",
    "for i in twobit_binary_combinations:\n",
    "    print(f\"Input: {i}, Output: {half_adder.feed_forward(i)}\")"
   ]
  }
 ],
 "metadata": {
  "kernelspec": {
   "display_name": "Python 3 (ipykernel)",
   "language": "python",
   "name": "python3"
  },
  "language_info": {
   "codemirror_mode": {
    "name": "ipython",
    "version": 3
   },
   "file_extension": ".py",
   "mimetype": "text/x-python",
   "name": "python",
   "nbconvert_exporter": "python",
   "pygments_lexer": "ipython3",
   "version": "3.12.0"
  }
 },
 "nbformat": 4,
 "nbformat_minor": 4
}
